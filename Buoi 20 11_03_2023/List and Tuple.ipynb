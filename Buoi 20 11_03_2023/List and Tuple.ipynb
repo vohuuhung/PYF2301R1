{
 "cells": [
  {
   "cell_type": "markdown",
   "metadata": {},
   "source": [
    "## Review: type()"
   ]
  },
  {
   "cell_type": "code",
   "execution_count": 1,
   "metadata": {},
   "outputs": [
    {
     "name": "stdout",
     "output_type": "stream",
     "text": [
      "<class 'list'>\n"
     ]
    }
   ],
   "source": [
    "# Python có 4 kiểu dữ liệu cơ bản\n",
    "L = [5,5]\n",
    "print(type(L))"
   ]
  },
  {
   "cell_type": "markdown",
   "metadata": {},
   "source": [
    "## list là gì?"
   ]
  },
  {
   "cell_type": "code",
   "execution_count": null,
   "metadata": {},
   "outputs": [],
   "source": [
    "# Ví dụ\n",
    "# hay nhập vào một số bất kỳ và lưu số đó vào n\n",
    "# hãy nhập n số và lưu n số lại vào biến\n",
    "L = [] # L la list rỗng\n"
   ]
  },
  {
   "cell_type": "code",
   "execution_count": 2,
   "metadata": {
    "scrolled": true
   },
   "outputs": [
    {
     "name": "stdout",
     "output_type": "stream",
     "text": [
      "[2, 7, 15]\n"
     ]
    }
   ],
   "source": [
    "L = [2,7,15]\n",
    "print(L)"
   ]
  },
  {
   "cell_type": "code",
   "execution_count": 3,
   "metadata": {},
   "outputs": [
    {
     "name": "stdout",
     "output_type": "stream",
     "text": [
      "[2, 'xin chào ', 15]\n"
     ]
    }
   ],
   "source": [
    "L = [2,\"xin chào \", 15]\n",
    "print(L)"
   ]
  },
  {
   "cell_type": "code",
   "execution_count": null,
   "metadata": {},
   "outputs": [],
   "source": [
    "# Sử dụng list\n",
    "L = []\n",
    "L.append(3)\n",
    "L.append(7)\n",
    "L.append(\"hung\")\n",
    "print(L)"
   ]
  },
  {
   "cell_type": "code",
   "execution_count": 2,
   "metadata": {},
   "outputs": [
    {
     "name": "stdout",
     "output_type": "stream",
     "text": [
      "Nhập vào n:2\n",
      "nhap vao phan tu thu:  01\n",
      "nhap vao phan tu thu:  12\n",
      "nhap vao phan tu thu:  22\n",
      "[1, 2, 2]\n"
     ]
    }
   ],
   "source": [
    "n = int(input(\"Nhập vào n:\"))\n",
    "### nhập n số tiếp theo và lưu n số vào list\n",
    "L = []\n",
    "for i in range (0,n+1):\n",
    "    a = int(input(\"nhap vao phan tu thu :\" +str(i) + \":\"))\n",
    "    L.append(a)\n",
    "print(L)\n",
    "    \n",
    "    "
   ]
  },
  {
   "cell_type": "markdown",
   "metadata": {},
   "source": [
    "### Thực hành: Viết chương trình tạo ra một list các string khác nhau và đếm tổng số lượng string dài hơn 3 kí tự"
   ]
  },
  {
   "cell_type": "code",
   "execution_count": 12,
   "metadata": {
    "scrolled": true
   },
   "outputs": [
    {
     "name": "stdout",
     "output_type": "stream",
     "text": [
      "10\n",
      "15\n",
      "17\n",
      "18\n"
     ]
    }
   ],
   "source": [
    "L = [10,15,17,18]\n",
    "for i in range(4):\n",
    "    print(L[i])"
   ]
  },
  {
   "cell_type": "code",
   "execution_count": 13,
   "metadata": {
    "scrolled": true
   },
   "outputs": [
    {
     "name": "stdout",
     "output_type": "stream",
     "text": [
      "15\n",
      "7\n",
      "10\n",
      "2\n",
      "3\n",
      "10\n",
      "15\n"
     ]
    }
   ],
   "source": [
    "L = [15,7,10,2,3,10,15]\n",
    "for i in range(len(L)):\n",
    "    print(L[i])"
   ]
  },
  {
   "cell_type": "code",
   "execution_count": 19,
   "metadata": {},
   "outputs": [
    {
     "name": "stdout",
     "output_type": "stream",
     "text": [
      "2\n",
      "[15, 15]\n"
     ]
    }
   ],
   "source": [
    "L = [15,7,10,2,3,10,15]\n",
    "L10 = []\n",
    "count = 0\n",
    "for i in range (len(L)):\n",
    "    if L[i] > 10:\n",
    "        count += 1\n",
    "        L10.append(L[i])\n",
    "    \n",
    "print(count)\n",
    "print(L10)"
   ]
  },
  {
   "cell_type": "code",
   "execution_count": 20,
   "metadata": {},
   "outputs": [
    {
     "name": "stdout",
     "output_type": "stream",
     "text": [
      "2\n"
     ]
    }
   ],
   "source": [
    "L = [\"xin chào\" , \"a\" , \"bcd\" , \"hello\" , \"hi\"]\n",
    "count = 0\n",
    "for i in range (len(L)):\n",
    "    if len(L[i]) > 3:\n",
    "        count += 1\n",
    "print(count)"
   ]
  },
  {
   "cell_type": "code",
   "execution_count": null,
   "metadata": {},
   "outputs": [],
   "source": [
    "L = [\"xin chào\" , \"a\" , \"bcd\" , \"hello\" , \"hi\"]\n",
    "if \"a\" in L:\n",
    "    print(\"L có chuỗi a\")\n",
    "else:\n",
    "    print(\"L không có chuỗi a\")"
   ]
  },
  {
   "cell_type": "code",
   "execution_count": 24,
   "metadata": {},
   "outputs": [
    {
     "name": "stdout",
     "output_type": "stream",
     "text": [
      "Nhập vào một chuỗi: a\n",
      "True\n"
     ]
    }
   ],
   "source": [
    "# Nhập vào một chuỗi , kiểm tra chuỗi đó có trong list L không ,nếu có thì in True, không thì in False\n",
    "L = [\"xin chào\" , \"a\" , \"bcd\" , \"hello\" , \"hi\"]\n",
    "list = str(input(\"Nhập vào một chuỗi: \"))\n",
    "if list in L:\n",
    "    print (\"True\")\n",
    "else: print(\"False\") "
   ]
  },
  {
   "cell_type": "markdown",
   "metadata": {},
   "source": [
    "### Thực hành 2: Viết chương trình nhận vào 2 list và trả về True nếu 2 list có ít nhất 1 phần tử chung, ngược lại trả về False"
   ]
  },
  {
   "cell_type": "code",
   "execution_count": 54,
   "metadata": {},
   "outputs": [
    {
     "data": {
      "text/plain": [
       "True"
      ]
     },
     "execution_count": 54,
     "metadata": {},
     "output_type": "execute_result"
    }
   ],
   "source": [
    "def checklist(L1,L2):\n",
    "    for i in range(len(L1)):\n",
    "        if L1[i] in L2:\n",
    "            return True\n",
    "        return False\n",
    "checklist([1,2,3],[1,5,3])\n",
    "    \n",
    "\n",
    "\n"
   ]
  },
  {
   "cell_type": "markdown",
   "metadata": {},
   "source": [
    "## Các thao tác cơ bản với list"
   ]
  },
  {
   "cell_type": "markdown",
   "metadata": {},
   "source": [
    "### Kiểm tra độ dài list"
   ]
  },
  {
   "cell_type": "code",
   "execution_count": 55,
   "metadata": {},
   "outputs": [
    {
     "data": {
      "text/plain": [
       "3"
      ]
     },
     "execution_count": 55,
     "metadata": {},
     "output_type": "execute_result"
    }
   ],
   "source": [
    "L1 =[1,2,3]\n",
    "len(L1)"
   ]
  },
  {
   "cell_type": "markdown",
   "metadata": {},
   "source": [
    "### Truy cập phần tử trên list"
   ]
  },
  {
   "cell_type": "code",
   "execution_count": 59,
   "metadata": {},
   "outputs": [
    {
     "name": "stdout",
     "output_type": "stream",
     "text": [
      "1\n"
     ]
    }
   ],
   "source": [
    "L =[1,2,3]\n",
    "print(L[0])"
   ]
  },
  {
   "cell_type": "markdown",
   "metadata": {},
   "source": [
    "### Thực hành: Tạo một list 10 số tự nhiên và in ra các phần tử trong list"
   ]
  },
  {
   "cell_type": "code",
   "execution_count": 60,
   "metadata": {},
   "outputs": [
    {
     "name": "stdout",
     "output_type": "stream",
     "text": [
      "1\n",
      "4\n",
      "234\n",
      "3\n",
      "4\n",
      "23\n",
      "532\n",
      "5\n",
      "3\n",
      "2\n"
     ]
    }
   ],
   "source": [
    "L =[1,4,234,3,4,23,532,5,3,2]\n",
    "for i in L:\n",
    "    print(i)"
   ]
  },
  {
   "cell_type": "markdown",
   "metadata": {},
   "source": [
    "### Thực hành 2: Tạo ra một list con chưa 2 phần tử cuối cùng từ list đã tạo ở trên"
   ]
  },
  {
   "cell_type": "code",
   "execution_count": 66,
   "metadata": {},
   "outputs": [
    {
     "name": "stdout",
     "output_type": "stream",
     "text": [
      "[3, 2]\n"
     ]
    }
   ],
   "source": [
    "L =[1,4,234,3,4,23,532,5,3,2]\n",
    "L_con = []\n",
    "L_con.append(L[-2])\n",
    "L_con.append(L[-1])\n",
    "print(L_con)\n"
   ]
  },
  {
   "cell_type": "markdown",
   "metadata": {},
   "source": [
    "### Cộng list"
   ]
  },
  {
   "cell_type": "code",
   "execution_count": 69,
   "metadata": {},
   "outputs": [
    {
     "name": "stdout",
     "output_type": "stream",
     "text": [
      "[1, 4, 234, 3, 4, 23, 532, 5, 3, 2, 1, 23, 2]\n"
     ]
    }
   ],
   "source": [
    "L1 =[1,4,234,3,4,23,532,5,3,2]\n",
    "L2= [1,23,2]\n",
    "L3 = L1 + L2\n",
    "\n",
    "print(L3)"
   ]
  },
  {
   "cell_type": "markdown",
   "metadata": {},
   "source": [
    "### Thực hành: Thêm học sinh vào lớp"
   ]
  },
  {
   "cell_type": "code",
   "execution_count": null,
   "metadata": {},
   "outputs": [],
   "source": []
  },
  {
   "cell_type": "markdown",
   "metadata": {},
   "source": [
    "### Kiểm tra phần tử tồn tại trong list"
   ]
  },
  {
   "cell_type": "code",
   "execution_count": 70,
   "metadata": {},
   "outputs": [
    {
     "name": "stdout",
     "output_type": "stream",
     "text": [
      "true\n"
     ]
    }
   ],
   "source": [
    "L1 = [2,3,4]\n",
    "a = 2\n",
    "if a in L1:\n",
    "    print(\"true\")"
   ]
  },
  {
   "cell_type": "markdown",
   "metadata": {},
   "source": [
    "### Xóa phần tử khỏi list"
   ]
  },
  {
   "cell_type": "code",
   "execution_count": 73,
   "metadata": {},
   "outputs": [
    {
     "name": "stdout",
     "output_type": "stream",
     "text": [
      "[1, 4, 234, 3, 4, 532, 5, 3, 2]\n"
     ]
    }
   ],
   "source": [
    "L =[1,4,234,3,4,23,532,5,3,2]\n",
    "L.remove(23)\n",
    "print(L)"
   ]
  },
  {
   "cell_type": "code",
   "execution_count": 82,
   "metadata": {},
   "outputs": [
    {
     "name": "stdout",
     "output_type": "stream",
     "text": [
      "Nhập vào số nguyên:15\n",
      "[7, 10, 2, 13, 4, 10, 5]\n"
     ]
    }
   ],
   "source": [
    "L = [15,7,10,2,13,4,10,15,5,15]\n",
    "\n",
    "### nhập vào một số nguyên và xóa toàn bộ số nguyên đó trong L\n",
    "### giả sử nhập vào 15 thì xóa hết 15 trong list L\n",
    "\n",
    "x = int(input(\"Nhập vào số nguyên:\"))\n",
    "while x in L:\n",
    "    L.remove(x)\n",
    "\n",
    "print(L)"
   ]
  },
  {
   "cell_type": "markdown",
   "metadata": {},
   "source": [
    "### Sắp xếp list"
   ]
  },
  {
   "cell_type": "code",
   "execution_count": 83,
   "metadata": {},
   "outputs": [
    {
     "name": "stdout",
     "output_type": "stream",
     "text": [
      "[2, 4, 5, 7, 10, 10, 13, 15, 15, 15]\n"
     ]
    }
   ],
   "source": [
    "L = [15,7,10,2,13,4,10,15,5,15]\n",
    "\n",
    "L.sort()\n",
    "print(L)"
   ]
  },
  {
   "cell_type": "code",
   "execution_count": 84,
   "metadata": {},
   "outputs": [
    {
     "name": "stdout",
     "output_type": "stream",
     "text": [
      "[15, 15, 15, 13, 10, 10, 7, 5, 4, 2]\n"
     ]
    }
   ],
   "source": [
    "L = [15,7,10,2,13,4,10,15,5,15]\n",
    "L.sort(reverse=True)\n",
    "print(L)"
   ]
  },
  {
   "cell_type": "markdown",
   "metadata": {},
   "source": [
    "### Làm rỗng list"
   ]
  },
  {
   "cell_type": "code",
   "execution_count": 85,
   "metadata": {},
   "outputs": [
    {
     "name": "stdout",
     "output_type": "stream",
     "text": [
      "[]\n"
     ]
    }
   ],
   "source": [
    "L = [15,7,10,2,13,4,10,15,5,15]\n",
    "L =[]\n",
    "print(L)"
   ]
  },
  {
   "cell_type": "markdown",
   "metadata": {},
   "source": [
    "### Copy list"
   ]
  },
  {
   "cell_type": "code",
   "execution_count": 88,
   "metadata": {},
   "outputs": [
    {
     "name": "stdout",
     "output_type": "stream",
     "text": [
      "[3, 7, 10]\n",
      "[3, 7, 10]\n"
     ]
    }
   ],
   "source": [
    "L = [3,7,10]\n",
    "L2 =L\n",
    "print(L2)\n",
    "print(L)"
   ]
  },
  {
   "cell_type": "markdown",
   "metadata": {},
   "source": [
    "## tuple"
   ]
  },
  {
   "cell_type": "code",
   "execution_count": 3,
   "metadata": {},
   "outputs": [
    {
     "name": "stdout",
     "output_type": "stream",
     "text": [
      "2\n"
     ]
    }
   ],
   "source": [
    "# tuple là dạng đặc biệt của list\n",
    "# chúng ta không thể thay đổi giá trị , độ dài của tuple\n",
    "## Tối ưu được dữ liệu\n",
    "a = (2,3,5)\n",
    "print(a[0])"
   ]
  },
  {
   "cell_type": "code",
   "execution_count": 96,
   "metadata": {},
   "outputs": [
    {
     "name": "stdout",
     "output_type": "stream",
     "text": [
      "117\n",
      "14.625\n"
     ]
    }
   ],
   "source": [
    "L = [3,7,10,15,20,50,7,5]\n",
    "# Tính tổng và trung bình của list\n",
    "S = 0\n",
    "A = 0\n",
    "for i in L:\n",
    "    S += i\n",
    "    A = S / (len(L))\n",
    "print(S)\n",
    "print(A)\n",
    "    "
   ]
  }
 ],
 "metadata": {
  "kernelspec": {
   "display_name": "Python 3 (ipykernel)",
   "language": "python",
   "name": "python3"
  },
  "language_info": {
   "codemirror_mode": {
    "name": "ipython",
    "version": 3
   },
   "file_extension": ".py",
   "mimetype": "text/x-python",
   "name": "python",
   "nbconvert_exporter": "python",
   "pygments_lexer": "ipython3",
   "version": "3.11.1"
  }
 },
 "nbformat": 4,
 "nbformat_minor": 4
}
