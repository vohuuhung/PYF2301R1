{
 "cells": [
  {
   "cell_type": "markdown",
   "id": "a2a38651",
   "metadata": {},
   "source": [
    "## Bài 1:\n",
    "Viết hàm my_info() nhận vào 2 tham số `name` và `course`, sau đó in ra thông tin tương ứng. Ví dụ: \n",
    "```\n",
    "my_info('Long', 'Python')\n",
    "\n",
    "Output: \n",
    "My name is Long.\n",
    "I'm studying Python.\n",
    "```"
   ]
  },
  {
   "cell_type": "code",
   "execution_count": 2,
   "id": "392f869d",
   "metadata": {
    "scrolled": true
   },
   "outputs": [
    {
     "ename": "SyntaxError",
     "evalue": "invalid syntax (2499754954.py, line 1)",
     "output_type": "error",
     "traceback": [
      "\u001b[1;36m  Cell \u001b[1;32mIn[2], line 1\u001b[1;36m\u001b[0m\n\u001b[1;33m    def my_info(...parameter here...)\u001b[0m\n\u001b[1;37m                ^\u001b[0m\n\u001b[1;31mSyntaxError\u001b[0m\u001b[1;31m:\u001b[0m invalid syntax\n"
     ]
    }
   ],
   "source": [
    "def my_info(...parameter here...)\n",
    "    # code below this line\n",
    "    \n",
    "    pass\n",
    "    # code above this line\n",
    "    \n",
    "my_info('Long', 'Python')"
   ]
  },
  {
   "cell_type": "code",
   "execution_count": 8,
   "id": "303d434d",
   "metadata": {},
   "outputs": [
    {
     "name": "stdout",
     "output_type": "stream",
     "text": [
      "my name is hung\n",
      "I'm studying Python\n"
     ]
    }
   ],
   "source": [
    "def my_info(name,course):\n",
    "    print(f\"my name is {name}\")\n",
    "    print(f\"I'm studying {course}\")\n",
    "my_info('hung', 'Python')"
   ]
  },
  {
   "cell_type": "markdown",
   "id": "7390cb06",
   "metadata": {},
   "source": [
    "## Bài 2:\n",
    "Viết hàm sum_even() nhận vào một số `n` và in ra tổng các số chẵn từ 2 đến n.\n",
    "Ví dụ:\n",
    "```\n",
    "sum_even(10)\n",
    "\n",
    "Output:\n",
    "30\n",
    "```"
   ]
  },
  {
   "cell_type": "code",
   "execution_count": null,
   "id": "df52dd4b",
   "metadata": {},
   "outputs": [],
   "source": [
    "def sum_even(...parameter here...):\n",
    "    # code below this line\n",
    "    pass\n",
    "    # code above this line\n",
    "\n",
    "sum_even(10)"
   ]
  },
  {
   "cell_type": "code",
   "execution_count": 11,
   "id": "5797242e",
   "metadata": {},
   "outputs": [
    {
     "name": "stdout",
     "output_type": "stream",
     "text": [
      "12\n"
     ]
    }
   ],
   "source": [
    "def sum_even(n):\n",
    "    S = 0\n",
    "    for i in range(2,n+1,2):\n",
    "        S += i\n",
    "    print(S)\n",
    "sum_even(7)\n",
    "    "
   ]
  },
  {
   "cell_type": "markdown",
   "id": "0f69e7f2",
   "metadata": {},
   "source": [
    "## Bài 3:\n",
    "Viết hàm easy_math() nhận vào 3 tham số `num1`, `op`, `num 2` để thực hiện phép tính tương ứng và in ra kết quả. \n",
    "Ví dụ:\n",
    "```\n",
    "easy_math(5, '+', 5)\n",
    "\n",
    "Output:\n",
    "10\n",
    "```\n"
   ]
  },
  {
   "cell_type": "code",
   "execution_count": null,
   "id": "ce6058ca",
   "metadata": {},
   "outputs": [],
   "source": [
    "def easy_math(...parameter here...):\n",
    "    # code below this line\n",
    "    pass\n",
    "    # code above this line\n",
    "\n",
    "easy_math(5, '+', 5)"
   ]
  },
  {
   "cell_type": "code",
   "execution_count": 18,
   "id": "db966e42",
   "metadata": {},
   "outputs": [
    {
     "name": "stdout",
     "output_type": "stream",
     "text": [
      "25\n"
     ]
    }
   ],
   "source": [
    "def easy_math(num1,op,num2):\n",
    "    \n",
    "    if op == \"+\":\n",
    "        result= num1 + num2\n",
    "    elif op == \"-\":\n",
    "        result=num1 - num2\n",
    "    elif op == \"*\":\n",
    "        result=num1 * num2\n",
    "    else:\n",
    "        result= num1 / num2\n",
    "    print(result)\n",
    "    \n",
    "    \n",
    "easy_math(5,'*',5)"
   ]
  },
  {
   "cell_type": "code",
   "execution_count": 52,
   "id": "c09869b2",
   "metadata": {},
   "outputs": [
    {
     "name": "stdout",
     "output_type": "stream",
     "text": [
      "25\n"
     ]
    }
   ],
   "source": [
    "def easy_math(num1,op,num2):\n",
    "    print(eval(f\"{num1} {op} {num2}\"))\n",
    "easy_math(5,'*',5)"
   ]
  },
  {
   "cell_type": "markdown",
   "id": "3239a01d",
   "metadata": {},
   "source": [
    "## Bài 4:\n",
    "Viết hàm check_even() nhận vào tham số `number` và kiểm tra xem `number` có phải là số chẵn hay không.\n",
    "Ví dụ:\n",
    "```\n",
    "check_even(5)\n",
    "\n",
    "Output:\n",
    "5 là số lẻ\n",
    "```"
   ]
  },
  {
   "cell_type": "code",
   "execution_count": null,
   "id": "f6a0918a",
   "metadata": {},
   "outputs": [],
   "source": [
    "def check_even(...parameter here...):\n",
    "    # code below this line\n",
    "    pass\n",
    "    # code above this line\n",
    "\n",
    "check_even(5)"
   ]
  },
  {
   "cell_type": "code",
   "execution_count": 21,
   "id": "6ce6b1a1",
   "metadata": {},
   "outputs": [
    {
     "name": "stdout",
     "output_type": "stream",
     "text": [
      "5 la so le\n"
     ]
    }
   ],
   "source": [
    "def check_even(n):\n",
    "    if n % 2 == 0:\n",
    "        print(f\"{n} la so chan\")\n",
    "    else:\n",
    "        print(f\"{n} la so le\")\n",
    "check_even(5)"
   ]
  },
  {
   "cell_type": "markdown",
   "id": "27a4bd3b",
   "metadata": {},
   "source": [
    "## Bài 5:\n",
    "Viết hàm transform_str() nhận vào tham số `string` và in ra `string` ở dạng uppercase và lowercase. Ví dụ:\n",
    "```\n",
    "transform_str('Function Is Magic!')\n",
    "\n",
    "Output:\n",
    "Lowercase: function is magic!\n",
    "Uppercase: FUNCTION IS MAGIC!\n",
    "```"
   ]
  },
  {
   "cell_type": "code",
   "execution_count": null,
   "id": "ae2891a8",
   "metadata": {},
   "outputs": [],
   "source": [
    "def transform_str(...parameter here...):\n",
    "    # code below this line\n",
    "    pass\n",
    "    # code above this line\n",
    "\n",
    "transform_str('Function Is Magic!')"
   ]
  },
  {
   "cell_type": "code",
   "execution_count": 55,
   "id": "52aae739",
   "metadata": {},
   "outputs": [
    {
     "name": "stdout",
     "output_type": "stream",
     "text": [
      "Lowcase: function is magic !\n",
      "Uppercase: FUNCTION IS MAGIC !\n"
     ]
    }
   ],
   "source": [
    "def transform_str(string):\n",
    "    print(f\"Lowcase: {string.lower()}\")\n",
    "    print(f\"Uppercase: {string.upper()}\")\n",
    "transform_str(\"Function is Magic !\")"
   ]
  },
  {
   "cell_type": "markdown",
   "id": "163331db",
   "metadata": {},
   "source": [
    "## Bài 6:\n",
    "Viết hàm calculate_factorial() nhận vào tham số `number` và in ra giai thừa của tham số đó. Ví dụ:\n",
    "```\n",
    "calculate_factorial(5)\n",
    "\n",
    "Output: 120\n",
    "```"
   ]
  },
  {
   "cell_type": "code",
   "execution_count": null,
   "id": "0047ec9d",
   "metadata": {},
   "outputs": [],
   "source": [
    "def calculate_factorial(...parameter here...):\n",
    "    # code below this line\n",
    "    pass\n",
    "    # code above this line\n",
    "\n",
    "calculate_factorial(5)"
   ]
  },
  {
   "cell_type": "code",
   "execution_count": 35,
   "id": "f87669de",
   "metadata": {},
   "outputs": [
    {
     "name": "stdout",
     "output_type": "stream",
     "text": [
      "120\n"
     ]
    }
   ],
   "source": [
    "def calculate_factorial(number):\n",
    "    S = 1\n",
    "    for i in range (1, number + 1):\n",
    "        S *= i\n",
    "    print(S)\n",
    "calculate_factorial(5)\n",
    "    "
   ]
  },
  {
   "cell_type": "markdown",
   "id": "6d381154",
   "metadata": {},
   "source": [
    "## Bài 7:\n",
    "Dãy Fibonacci là dãy vô hạn các số tự nhiên bắt đầu bằng 1 và 1, sau đó các số tiếp theo sẽ bằng tổng của 2 số liền trước nó. \n",
    "\n",
    "Cụ thể, các số đầu tiên của dãy Fibonacci là 1, 1, 2, 3, 5, 8, 13, 21, 34, 55, 89, 144, 233, 377, 610... \n",
    "\n",
    "Nhiệm vụ: Viết chương trình find_fibo() nhận vào tham số `index` và in ra số Fibonacci ở vị trí `index`. Nếu `index` bằng 0 thì in ra 0. Ví dụ:\n",
    "\n",
    "```\n",
    "find_fibo(1)\n",
    "\n",
    "Output:\n",
    "1\n",
    "```\n",
    "-------------------\n",
    "```\n",
    "find_fibo(6)\n",
    "\n",
    "Output:\n",
    "8\n",
    "```\n",
    "-------------------\n",
    "```\n",
    "find_fibo(0)\n",
    "\n",
    "Output:\n",
    "0\n",
    "```"
   ]
  },
  {
   "cell_type": "code",
   "execution_count": 38,
   "id": "377b92bb",
   "metadata": {},
   "outputs": [
    {
     "name": "stdout",
     "output_type": "stream",
     "text": [
      "3\n"
     ]
    }
   ],
   "source": [
    "def find_fibo(index):\n",
    "    f1 = 1\n",
    "    f2 = 1\n",
    "    if index == 0:\n",
    "        print(0)\n",
    "    elif index == 1 or index == 2:\n",
    "        print(1)\n",
    "    else:\n",
    "        for i in range (1,index - 1):\n",
    "            f3 = f1 + f2\n",
    "            f1 = f2\n",
    "            f2 = f3\n",
    "            \n",
    "        print(f3)\n",
    "find_fibo(4)"
   ]
  },
  {
   "cell_type": "code",
   "execution_count": null,
   "id": "0b8b2dc3",
   "metadata": {},
   "outputs": [],
   "source": [
    "def find_fibo(...parameter here...):\n",
    "    # code below this line\n",
    "    pass\n",
    "    # code above this line\n",
    "\n",
    "find_fibo(0)"
   ]
  },
  {
   "cell_type": "code",
   "execution_count": 15,
   "id": "34a43f4e",
   "metadata": {},
   "outputs": [
    {
     "name": "stdout",
     "output_type": "stream",
     "text": [
      "5\n"
     ]
    }
   ],
   "source": [
    "def find_fibo(index):\n",
    "    f0 = 0\n",
    "    f1 = 1\n",
    "    f2 = 1\n",
    "    if index ==0 :\n",
    "        print(0)\n",
    "    elif index == 1 or index == 2:\n",
    "        print(1)\n",
    "    else:\n",
    "        for i in range (index-1):\n",
    "            f3 = f1 + f2\n",
    "            f1 = f2 \n",
    "            f2 = f3\n",
    "        print(f3)\n",
    "find_fibo(4)\n",
    "    \n",
    "    "
   ]
  },
  {
   "cell_type": "markdown",
   "id": "65db4551",
   "metadata": {},
   "source": [
    "## Bài 8:\n",
    "Viết hàm find_divisors() nhận vào một số nguyên dương `number` và in ra tất cả các ước của `number`. Ví dụ:\n",
    "```\n",
    "find_divisors(24)\n",
    "\n",
    "Output:\n",
    "Ước của 24 là: 1, 2, 3, 4, 6, 8, 12, 24\n",
    "```"
   ]
  },
  {
   "cell_type": "code",
   "execution_count": 30,
   "id": "54b129d6",
   "metadata": {},
   "outputs": [
    {
     "name": "stdout",
     "output_type": "stream",
     "text": [
      "uoc cua 24 la: \n",
      "1, 2, 3, 4, 6, 8, 12, 24\n"
     ]
    }
   ],
   "source": [
    "def find_divisors (number):\n",
    "    print(f\"uoc cua {number} la: \")\n",
    "    for i in range(1,number+1):\n",
    "        if number % i == 0: \n",
    "            if number / i == 1:\n",
    "                print(i)\n",
    "            else: print(i,end =\", \")\n",
    "            \n",
    "find_divisors (24)"
   ]
  },
  {
   "cell_type": "code",
   "execution_count": null,
   "id": "d9b20c10",
   "metadata": {},
   "outputs": [],
   "source": [
    "def find_divisors(...parameter here...):\n",
    "    # code below this line\n",
    "    pass\n",
    "    # code above this line\n",
    "\n",
    "find_divisors(24)"
   ]
  },
  {
   "cell_type": "code",
   "execution_count": 71,
   "id": "15b84310",
   "metadata": {},
   "outputs": [
    {
     "name": "stdout",
     "output_type": "stream",
     "text": [
      "ước của 24 là 1,2,3,4,6,8,12,24\n"
     ]
    }
   ],
   "source": [
    "def find_divisors(number):\n",
    "    print(f\"ước của {number} là \",end = \"\") \n",
    "    for i in range (1,number+1):\n",
    "        if number % i == 0:\n",
    "            if  number > i:\n",
    "                print(i,end =\",\")\n",
    "            else:\n",
    "                print(i)\n",
    "            \n",
    "          \n",
    "find_divisors(24)\n",
    "        "
   ]
  },
  {
   "cell_type": "markdown",
   "id": "37000ab2",
   "metadata": {},
   "source": [
    "## Bài 9:\n",
    "Viết hàm solve_equation() để giải phương trình bậc nhất ax + b = 0 với `a` và `b` là 2 tham số đầu vào. Ví dụ:\n",
    "```\n",
    "solve_equation(2, -4)\n",
    "\n",
    "Output: \n",
    "x = 2\n",
    "```\n",
    "---\n",
    "```\n",
    "solve_equation(0, 0)\n",
    "\n",
    "Output: \n",
    "Phương trình vô số nghiệm\n",
    "```\n",
    "---\n",
    "```\n",
    "solve_equation(0, -4)\n",
    "\n",
    "Output: \n",
    "Phương trình vô nghiệm\n",
    "```"
   ]
  },
  {
   "cell_type": "code",
   "execution_count": 32,
   "id": "54928b4d",
   "metadata": {},
   "outputs": [
    {
     "name": "stdout",
     "output_type": "stream",
     "text": [
      "phuong trinh vo so nghiem\n"
     ]
    }
   ],
   "source": [
    "def solve_equation(a,b):\n",
    "    if a == 0 and b == 0:\n",
    "        print(\"phuong trinh vo so nghiem\")\n",
    "    elif a == 0 and b != 0:\n",
    "        print(\"phuong trinh vo nghiem\")\n",
    "    else:\n",
    "        print(f\"x = {-b/a}\")\n",
    "solve_equation(0,0)"
   ]
  },
  {
   "cell_type": "code",
   "execution_count": null,
   "id": "abfc5589",
   "metadata": {},
   "outputs": [],
   "source": [
    "def solve_equation(...parameter here...):\n",
    "    # code below this line\n",
    "    pass\n",
    "    # code above this line\n",
    "\n",
    "solve_equation(2, -4)"
   ]
  },
  {
   "cell_type": "code",
   "execution_count": 81,
   "id": "395ffc86",
   "metadata": {},
   "outputs": [
    {
     "name": "stdout",
     "output_type": "stream",
     "text": [
      "phuong trinh vo so nghiem\n"
     ]
    }
   ],
   "source": [
    "def solve_equation(a,b):\n",
    "    \n",
    "    if a == 0 and b!= 0:\n",
    "        print(\"phuong trinh vo nghiem\")\n",
    "    elif a == 0 and b == 0:\n",
    "        print(\"phuong trinh vo so nghiem\")\n",
    "    else:\n",
    "        print(f\"x = {-b/a}\")\n",
    "solve_equation(0,0)"
   ]
  },
  {
   "cell_type": "markdown",
   "id": "a483ed69",
   "metadata": {},
   "source": [
    "## Bài 10:\n",
    "Viết hàm find_distance() nhận vào 4 tham số `x1`, `y1`, `x2`, `y2` là tọa độ của 2 điểm trên trục tọa độ và in ra khoảng cách của 2 điểm đó theo công thức:\n",
    "```\n",
    "distance = sqrt((x1-x2)^2 + (y1-y2)^2)\n",
    "```\n",
    "Tham khảo: https://toanthaydinh.com/cong-thuc-tinh-khoang-cach-giua-2-diem/\n",
    "Khoảng cách được làm tròn 2 chữ số thập phân.\n",
    "\n",
    "Ví dụ:\n",
    "```\n",
    "find_distance(5, 2, 1, 3)\n",
    "\n",
    "Output:\n",
    "4.12\n",
    "```"
   ]
  },
  {
   "cell_type": "code",
   "execution_count": 37,
   "id": "30ed44bc",
   "metadata": {},
   "outputs": [
    {
     "name": "stdout",
     "output_type": "stream",
     "text": [
      "4.12\n"
     ]
    }
   ],
   "source": [
    "def find_distance(x1,y1,x2,y2):\n",
    "    distance = round(((x1-x2)**2 + (y1-y2)**2)**(1/2),2)\n",
    "    print(distance)\n",
    "find_distance(5,2,1,3)"
   ]
  },
  {
   "cell_type": "code",
   "execution_count": null,
   "id": "2dcf614e",
   "metadata": {},
   "outputs": [],
   "source": [
    "def find_distance(...parameter here...):\n",
    "    # code below this line\n",
    "    pass\n",
    "    # code above this line\n",
    "\n",
    "find_distance(5, 2, 1, 3)"
   ]
  },
  {
   "cell_type": "code",
   "execution_count": 89,
   "id": "aed6a544",
   "metadata": {},
   "outputs": [
    {
     "name": "stdout",
     "output_type": "stream",
     "text": [
      "4.12\n"
     ]
    }
   ],
   "source": [
    "def find_distance(x1,y1,x2,y2):\n",
    "    import math\n",
    "    distance = round(math.sqrt((x1-x2)**2 + (y1-y2)**2), 2)\n",
    "    print(distance)\n",
    "find_distance(5,2,1,3)"
   ]
  },
  {
   "cell_type": "markdown",
   "id": "6236743e",
   "metadata": {},
   "source": [
    "## Bài 11(bonus):\n",
    "Viết hàm test_password() nhận vào một chuỗi(xem như là mật khẩu của người dùng).\n",
    "Sau đó kiểm tra xem đây có phải là mật khẩu mạnh hay không theo quy tắc sau:\n",
    "- Mật khẩu mạnh là mật khẩu phải có ít nhất 1 chữ hoa, 1 chữ thường, 1 số và 1 ký tự đặc biệt"
   ]
  },
  {
   "cell_type": "code",
   "execution_count": null,
   "id": "b24922e7",
   "metadata": {},
   "outputs": [],
   "source": [
    "def test_password(...parameter here...):\n",
    "    # code below this line\n",
    "    pass\n",
    "    # code above this line\n",
    "\n",
    "test_password(\"aW12R@_bc\")"
   ]
  },
  {
   "cell_type": "code",
   "execution_count": 50,
   "id": "f8afc3fd",
   "metadata": {},
   "outputs": [
    {
     "name": "stdout",
     "output_type": "stream",
     "text": [
      "mat khau manh\n"
     ]
    }
   ],
   "source": [
    "def test_password(password):\n",
    "    count_supper = 0\n",
    "    count_lower = 0\n",
    "    count_digit = 0\n",
    "    count_special = 0\n",
    "    for i in password:\n",
    "        if i.isupper():\n",
    "            count_supper += 1\n",
    "        elif i.islower():\n",
    "            count_lower += 1\n",
    "        elif i.isdigit():\n",
    "            count_digit += 1\n",
    "        else:\n",
    "            count_special += 1\n",
    "    if count_supper >0 and count_lower >0 and count_digit >0 and count_special >0:\n",
    "        print(\"mat khau manh\")\n",
    "    else:\n",
    "        print(\"mat khau yeu\")\n",
    "test_password(\"HuuHung123@\")"
   ]
  },
  {
   "cell_type": "code",
   "execution_count": null,
   "id": "56d30bcc",
   "metadata": {},
   "outputs": [],
   "source": []
  }
 ],
 "metadata": {
  "kernelspec": {
   "display_name": "Python 3 (ipykernel)",
   "language": "python",
   "name": "python3"
  },
  "language_info": {
   "codemirror_mode": {
    "name": "ipython",
    "version": 3
   },
   "file_extension": ".py",
   "mimetype": "text/x-python",
   "name": "python",
   "nbconvert_exporter": "python",
   "pygments_lexer": "ipython3",
   "version": "3.11.1"
  }
 },
 "nbformat": 4,
 "nbformat_minor": 5
}
