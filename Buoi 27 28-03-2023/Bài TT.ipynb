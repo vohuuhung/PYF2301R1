{
 "cells": [
  {
   "cell_type": "markdown",
   "id": "767eeff5",
   "metadata": {},
   "source": [
    "## 1. Cách gọi hàm khi người dùng nhấp button"
   ]
  },
  {
   "cell_type": "code",
   "execution_count": null,
   "id": "91492734",
   "metadata": {},
   "outputs": [],
   "source": [
    "Bước 1: Viết hàm cần thực hiện khi nhấp button\n",
    "Bước 2: Tạo button để thực hiện hàm\n",
    "        button = Button(<cửa sổ>, text = <nội dung>, command = <tên hàm>)\n",
    "Bước 3: Dán button\n",
    "        Button.pack()"
   ]
  },
  {
   "cell_type": "markdown",
   "id": "55762d22",
   "metadata": {},
   "source": [
    "## 2.Cách lấy giá trị từ Entry và gán giá trị vào Label"
   ]
  },
  {
   "cell_type": "markdown",
   "id": "ab18b37b",
   "metadata": {},
   "source": [
    "Bước 1: Tạo một Label để đưa giá trị từ Entry vào\n",
    "Bước 2: Lấy giá trị từ Entry bằng cách: <tên đối tượng Entry>.get \n",
    "\n"
   ]
  },
  {
   "cell_type": "code",
   "execution_count": 52,
   "id": "4e277d51",
   "metadata": {},
   "outputs": [],
   "source": [
    "from tkinter import *\n",
    "\n",
    "window = Tk()\n",
    "window.title(\"Demo tkinter app\")\n",
    "# Thêm widget\n",
    "login_lbl = Label(window,text= \"Login\")\n",
    "username_lbl = Label(window,text= \"Username\")\n",
    "password_lbl = Label(window,text = \"Password\")\n",
    "username = Entry(window)\n",
    "password = Entry(window)\n",
    "\n",
    "# pack\n",
    "login_lbl.pack()\n",
    "username_lbl.pack()\n",
    "username.pack()\n",
    "password_lbl.pack()\n",
    "password.pack()\n",
    "\n",
    "# Cách lấy giá trị từ Entry và gán giá trị vào Label\n",
    "\n",
    "def clicked():\n",
    "    login_successful_lbl= Label(window,text = f\"{username.get()} đã đăng nhập thành công !\")\n",
    "    login_successful_lbl.pack()\n",
    "\n",
    "# Cách gọi hàm khi nhấn vào Button\n",
    "login_btn = Button(window, text = \"login\",command= clicked)\n",
    "login_btn.pack()\n",
    "\n",
    "window.mainloop()"
   ]
  },
  {
   "cell_type": "markdown",
   "id": "4f76f350",
   "metadata": {},
   "source": [
    "## 3. Tạo app tính trung bình cộng lấy các giá trị nhập vào Entry và hiển thị kết quả bằng label trên ứng dụng"
   ]
  },
  {
   "attachments": {
    "image.png": {
     "image/png": "[encoded data removed]"
    }
   },
   "cell_type": "markdown",
   "id": "0265a8ec",
   "metadata": {},
   "source": [
    "![image.png](attachment:image.png)"
   ]
  },
  {
   "cell_type": "code",
   "execution_count": null,
   "id": "a55f0566",
   "metadata": {},
   "outputs": [],
   "source": [
    "### from tkinter import *\n",
    "\n",
    "# Tạo một cửa sổ giao diện đồ họa\n",
    "window = Tk()\n",
    "window.title(\"Tính trung bình cộng các số\")\n",
    "entry_lbl = Label(window,text = \"Nhập giá trị \")\n",
    "entry_lbl.pack()\n",
    "# Tạo một Entry để cho phép người dùng nhập các giá trị\n",
    "\n",
    "entry = Entry(window, width=30)\n",
    "entry.pack(pady=10)\n",
    "\n",
    "# Tạo một Listbox để hiển thị danh sách các giá trị đã được nhập\n",
    "listbox_lbl = Label(window,text=\"Giá trị đã nhập\")\n",
    "listbox_lbl.pack()\n",
    "listbox = Listbox(window, width=30)\n",
    "listbox.pack()\n",
    "\n",
    "# Tạo một hàm để lưu các giá trị từ Entry vào Listbox\n",
    "def save_value():\n",
    "    value = entry.get() # Lấy giá trị từ Entry\n",
    "    listbox.insert(END, value) # Thêm giá trị vào Listbox\n",
    "    entry.delete(0, END) # Xóa giá trị trong Entry sau khi lưu vào Listbox\n",
    "\n",
    "# Tạo một nút lưu trữ để lưu các giá trị từ Entry vào Listbox\n",
    "save_button = Button(window, text=\"Lưu giá trị\", command = save_value)\n",
    "save_button.pack(pady=10)\n",
    "\n",
    "# Tạo một hàm để reset \n",
    "def reset_value():\n",
    "    listbox.delete(0,END)\n",
    "    \n",
    "      \n",
    "# Tạo nút reset\n",
    "reset_button = Button(window,text=\"Reset\",command = reset_value)\n",
    "reset_button.pack(pady=10)\n",
    "\n",
    "\n",
    "# Tạo một hàm để tính trung bình cộng các số trong Listbox\n",
    "def calculate_average():\n",
    "    values = listbox.get(0, END) # Lấy danh sách các giá trị từ Listbox\n",
    "    if len(values) == 0:\n",
    "        average_button.configure(text = \"Không có giá trị nào để tính trung bình cộng\")\n",
    "    else:\n",
    "        sum = 0\n",
    "        for value in values:\n",
    "            sum += float(value)\n",
    "        average = sum / len(values)\n",
    "        average_lbl = Label(window,text = f\"Giá trị trung bình = {average}\")\n",
    "        average_lbl.pack()\n",
    "\n",
    "# Tạo một nút tính trung bình cộng để tính trung bình cộng các số trong Listbox\n",
    "average_button = Button(window, text=\"Tính trung bình cộng\", command = calculate_average)\n",
    "average_button.pack(pady=10)\n",
    "\n",
    "\n",
    "# Bắt đầu vòng lặp giao diện đồ họa\n",
    "window.mainloop()\n"
   ]
  }
 ],
 "metadata": {
  "kernelspec": {
   "display_name": "Python 3 (ipykernel)",
   "language": "python",
   "name": "python3"
  },
  "language_info": {
   "codemirror_mode": {
    "name": "ipython",
    "version": 3
   },
   "file_extension": ".py",
   "mimetype": "text/x-python",
   "name": "python",
   "nbconvert_exporter": "python",
   "pygments_lexer": "ipython3",
   "version": "3.11.1"
  }
 },
 "nbformat": 4,
 "nbformat_minor": 5
}
