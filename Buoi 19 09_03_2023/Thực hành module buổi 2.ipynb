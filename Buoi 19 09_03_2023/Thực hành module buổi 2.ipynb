{
 "cells": [
  {
   "cell_type": "markdown",
   "id": "fc334a70",
   "metadata": {},
   "source": [
    "## Bài 1: Is leap year?\n",
    "Viết hàm is_leap_year() nhận vào 1 tham số `year` và kiểm tra xem `year` có phải là năm nhuận hay không. Ví dụ: \n",
    "```\n",
    "is_leap_year(2000)\n",
    "\n",
    "Output: \n",
    "True\n",
    "```\n",
    "---\n",
    "```\n",
    "is_leap_year(2005)\n",
    "\n",
    "Output: \n",
    "False\n",
    "```"
   ]
  },
  {
   "cell_type": "code",
   "execution_count": null,
   "id": "aa291585",
   "metadata": {},
   "outputs": [],
   "source": [
    "def is_leap_year(...parameter here...):\n",
    "    # code below this line\n",
    "    return False\n",
    "    # code above this line\n",
    "    \n",
    "is_leap_year(2005)"
   ]
  },
  {
   "cell_type": "code",
   "execution_count": null,
   "id": "e2c9c5ad",
   "metadata": {},
   "outputs": [],
   "source": [
    "def test_year(year):\n",
    "    if year %100 ==0 or year % 4 == 0 or year % 400 == 0:\n",
    "        return True\n",
    "    else:\n",
    "        return False\n",
    "test_year(2020)"
   ]
  },
  {
   "cell_type": "markdown",
   "id": "1e4ca713",
   "metadata": {},
   "source": [
    "## Bài 2: r_strip\n",
    "Viết hàm r_strip() nhận vào một tham số `string` và trả về `string` sau khi đã được cắt bỏ các khoảng trắng bị thừa\n",
    "Ví dụ:\n",
    "```\n",
    "r_strip('hello        ')\n",
    "\n",
    "Output:\n",
    "hello\n",
    "```"
   ]
  },
  {
   "cell_type": "code",
   "execution_count": null,
   "id": "813613f0",
   "metadata": {},
   "outputs": [],
   "source": [
    "def r_strip(...parameter here...):\n",
    "    # code below this line\n",
    "    return None\n",
    "    # code above this line\n",
    "\n",
    "r_strip('hello        ')"
   ]
  },
  {
   "cell_type": "code",
   "execution_count": 13,
   "id": "6affe614",
   "metadata": {},
   "outputs": [
    {
     "data": {
      "text/plain": [
       "'python'"
      ]
     },
     "execution_count": 13,
     "metadata": {},
     "output_type": "execute_result"
    }
   ],
   "source": [
    "def r_strip(string):\n",
    "    return string.strip()\n",
    "r_strip(\"python     \")"
   ]
  },
  {
   "cell_type": "markdown",
   "id": "43c92e58",
   "metadata": {},
   "source": [
    "## Bài 3: is_prime\n",
    "Viết hàm is_prime() nhận vào một tham số `number` và cho biết `number` có phải là số nguyên tố hay không.\n",
    "Ví dụ:\n",
    "```\n",
    "is_prime(17)\n",
    "\n",
    "Output:\n",
    "True\n",
    "```\n",
    "---\n",
    "```\n",
    "is_prime(18)\n",
    "\n",
    "Output:\n",
    "False\n",
    "```"
   ]
  },
  {
   "cell_type": "code",
   "execution_count": null,
   "id": "3e1dd926",
   "metadata": {},
   "outputs": [],
   "source": [
    "def is_prime(...parameter here...):\n",
    "    # code below this line\n",
    "    return False\n",
    "    # code above this line\n",
    "\n",
    "is_prime(18)"
   ]
  },
  {
   "cell_type": "code",
   "execution_count": 57,
   "id": "25f7ded4",
   "metadata": {},
   "outputs": [
    {
     "data": {
      "text/plain": [
       "False"
      ]
     },
     "execution_count": 57,
     "metadata": {},
     "output_type": "execute_result"
    }
   ],
   "source": [
    "def is_prime(number):\n",
    "    check = True\n",
    "    for i in range (2,number):\n",
    "        if number % i  == 0:\n",
    "            check = False\n",
    "    if check:\n",
    "        return True\n",
    "    else:\n",
    "        return False\n",
    "is_prime(8)"
   ]
  },
  {
   "cell_type": "markdown",
   "id": "b7aea8d8",
   "metadata": {},
   "source": [
    "## Bài 4: find all primes\n",
    "Viết hàm find_primes() nhận vào hai tham số `n_start` và `n_end` và in ra tất cả số nguyên tố trong khoảng [n_start, n_end].\n",
    "\n",
    "**Gợi ý** có thể sử dụng hàm is_prime() ở bài 3.\n",
    "\n",
    "Ví dụ:\n",
    "```\n",
    "find_primes(2, 24)\n",
    "\n",
    "Output:\n",
    "2 3 5 7 11 13 17 19 23\n",
    "```"
   ]
  },
  {
   "cell_type": "code",
   "execution_count": null,
   "id": "46937ae8",
   "metadata": {},
   "outputs": [],
   "source": [
    "def find_primes(...parameter here...):\n",
    "    # code below this line\n",
    "    pass\n",
    "    # code above this line\n",
    "\n",
    "find_primes(2, 24)"
   ]
  },
  {
   "cell_type": "code",
   "execution_count": 58,
   "id": "be55ea20",
   "metadata": {},
   "outputs": [
    {
     "name": "stdout",
     "output_type": "stream",
     "text": [
      "2 3 5 7 11 13 17 19 23 "
     ]
    }
   ],
   "source": [
    "def fine_primes(n_start,n_end):\n",
    "    check = True\n",
    "    for i in range (n_start,n_end+1):\n",
    "        if is_prime(i):\n",
    "            print(i,end=\" \")\n",
    "    \n",
    "fine_primes(2,24)\n"
   ]
  },
  {
   "cell_type": "markdown",
   "id": "a8751a41",
   "metadata": {},
   "source": [
    "## Bài 5(Bonus): More about Fibo\n",
    "Viết hàm print_fibo_sequence() nhận vào tham số `n` và in ra n số đầu tiên trong dãy Fibonacci.\n",
    "\n",
    "Ví dụ: \n",
    "```\n",
    "print_fibo_sequence(7)\n",
    "\n",
    "Output:\n",
    "1 1 2 3 5 8 13\n",
    "```"
   ]
  },
  {
   "cell_type": "code",
   "execution_count": null,
   "id": "f0b8db21",
   "metadata": {},
   "outputs": [],
   "source": [
    "def print_fibo_sequence(...parameter here...):\n",
    "    # code below this line\n",
    "    pass\n",
    "    # code above this line\n",
    "\n",
    "print_fibo_sequence(7)"
   ]
  },
  {
   "cell_type": "code",
   "execution_count": 87,
   "id": "5f8ff7cf",
   "metadata": {},
   "outputs": [
    {
     "name": "stdout",
     "output_type": "stream",
     "text": [
      "3\n"
     ]
    }
   ],
   "source": [
    "def fibo_index(index):\n",
    "    f1= 1\n",
    "    f2 =1\n",
    "    if index == 0:\n",
    "        print(0)\n",
    "    elif index ==1 or index == 2:\n",
    "        print(1)\n",
    "    else:\n",
    "        for i in range (1,index-1):\n",
    "            f3 = f1 +f2\n",
    "            f1 = f2\n",
    "            f2 = f3\n",
    "        print (f3)\n",
    "fibo_index(4)"
   ]
  },
  {
   "cell_type": "code",
   "execution_count": 95,
   "id": "5d470e19",
   "metadata": {},
   "outputs": [
    {
     "name": "stdout",
     "output_type": "stream",
     "text": [
      "1\n",
      "1\n",
      "2\n",
      "3\n",
      "5\n",
      "8\n"
     ]
    }
   ],
   "source": [
    "def print_fibo_sequence(n):\n",
    "    for i in range (1,n+1):\n",
    "        if fibo_index(i):\n",
    "            print(i, end =\"\")\n",
    "print_fibo_sequence(6)"
   ]
  },
  {
   "attachments": {},
   "cell_type": "markdown",
   "id": "13f049b2",
   "metadata": {},
   "source": [
    "## Bài 6(Bonus): What is binary number?\n",
    "Trong thực tế, con người chúng ta quen với các số biểu diển bằng hệ thập phân, nhưng trên máy tính thì máy tính sử dụng hệ số Nhị phân với hai chữ số 0 hoặc 1 để biểu diển cho tất cả các dữ liệu.\n",
    "\n",
    "Trong bảng dưới ta thấy, để biểu diển các số thập phân, người ta dùng mười chữ số từ 0 đến 9. Để biểu diển Nhị phân thì người ta dùng hai số 0 và 1.\n",
    "\n",
    "![image-2.png](attachment:image-2.png)\n",
    "\n",
    "Để đổi một số thập phân sang Nhị phân, chúng ta lấy số muốn đổi sang nhị phân chia với 2 và sau đó lấy kết quả chia tiếp tục chia với 2, và lập lại phép chia này cho đến khi ta nhận được kết quả là 0 (từ trên xuống, theo mũi tên màu xanh). Ở phép chia này, ta lấy dư là 0 và 1. Sau khi chia đến kết quả bằng 0, ta sẽ lấy các con số dư ghi lại từ dưới lên (theo chiều mũi tên màu đỏ) ta được dãy số gồm 0 và 1, đây chính là giá trị ta cần tìm (các số dư chỉ là 0 và 1, không được chia kết quả ra phần lẻ, ví dụ như 2,5).\n",
    "\n",
    "![image-3.png](attachment:image-3.png)\n",
    "\n",
    "Trong phép chia trên, ta muốn tìm giá trị Nhị phân của số 11, ta lấy số 11 chia cho 2 và sau đó chia liên tục kết quả với 2 cho đến khi nào kết quả bằng 0. Sau đó, ta lấy số dư ghi lại và ta được kết quả Nhị phân của số 11 là 1011.\n",
    "\n",
    "Nhiệm vụ của bạn: Hãy viết hàm to_binary() nhận vào một tham số `number` và return dạng binary của `number`.\n",
    "\n",
    "Ví dụ:\n",
    "\n",
    "```\n",
    "to_binary(11)\n",
    "\n",
    "Output: \n",
    "1011\n",
    "```"
   ]
  },
  {
   "cell_type": "code",
   "execution_count": null,
   "id": "d5ad4ca8",
   "metadata": {},
   "outputs": [],
   "source": [
    "def to_binary(...parameter here...):\n",
    "    # code below this line\n",
    "    return 0\n",
    "    # code above this line\n",
    "\n",
    "to_binary(11)"
   ]
  },
  {
   "cell_type": "code",
   "execution_count": 110,
   "id": "795b2139",
   "metadata": {},
   "outputs": [
    {
     "name": "stdout",
     "output_type": "stream",
     "text": [
      "1011"
     ]
    }
   ],
   "source": [
    "def to_binary(number):\n",
    "    a = number % 2\n",
    "    aa = number // 2\n",
    "    b = aa % 2\n",
    "    bb = aa // 2\n",
    "    c = bb % 2\n",
    "    cc = bb //2\n",
    "    d = cc % 2\n",
    "    dd = cc // 2\n",
    "    print(a,end=\"\")\n",
    "    print(b,end=\"\")\n",
    "    print(c,end=\"\")\n",
    "    print(d,end=\"\")\n",
    "    \n",
    "to_binary(13)\n",
    "    "
   ]
  },
  {
   "cell_type": "code",
   "execution_count": 86,
   "id": "6f31d910",
   "metadata": {},
   "outputs": [
    {
     "name": "stdout",
     "output_type": "stream",
     "text": [
      "521"
     ]
    }
   ],
   "source": [
    "def to_binary(number):\n",
    "    for i in range (0,number+1):\n",
    "        i = number // 2\n",
    "        number = i\n",
    "        if i == 0: break\n",
    "        for ii in range (i+1):\n",
    "            ii = number % 2\n",
    "        print(i,end=\"\")  \n",
    "        \n",
    "        \n",
    "to_binary(11)"
   ]
  },
  {
   "cell_type": "code",
   "execution_count": 89,
   "id": "b39ecf3c",
   "metadata": {},
   "outputs": [
    {
     "name": "stdout",
     "output_type": "stream",
     "text": [
      "5"
     ]
    }
   ],
   "source": [
    "def to_binary(number):\n",
    "    for i in range (0,number+1):\n",
    "        i = number // 2\n",
    "        number = i\n",
    "        \n",
    "        if i == 0: break\n",
    "        for ii in range (0,i+1):\n",
    "            ii = number % 2\n",
    "            number = ii\n",
    "            print(i,end=\"\")\n",
    "to_binary(11)"
   ]
  },
  {
   "cell_type": "markdown",
   "id": "1bc143fc",
   "metadata": {},
   "source": [
    "## Bài 7: I love soccer\n",
    "Đội tuyển bóng đá quốc gia Việt Nam là đội tuyển bóng đá nam đại diện cho Việt Nam và do Liên đoàn bóng đá Việt Nam quản lý. Mặc dù đội chỉ được tham gia hai kỳ Asian Cup vào năm 2007 và 2019, đội bóng đã trở thành đội đại diện đến từ Đông Nam Á có thành tích tốt nhất trong giải này khi cả hai lần đều lọt vào tứ kết.\n",
    "\n",
    "Nhiệm vụ: Hãy viết hàm calc_score() nhận vào các tham số `win`, `draw` và `lose` để giúp Đội tuyển bóng đá Việt Nam tính điểm sau mỗi mùa đấu theo quy tắc như sau:\n",
    "- Mỗi trận `win` được tính 3 điểm\n",
    "- Mỗi trận `draw` được tính 1 điểm\n",
    "- Mỗi trận `lose` bị trừ 1 điểm\n",
    "\n",
    "\n",
    "**Lưu ý**: \n",
    "- `lose` là optional parameter. Nếu gọi function không có tham số `lose` thì coi như `lose` là 0.\n",
    "- Điểm tính ra sẽ được return về chứ không in trực tiếp\n",
    "\n",
    "```\n",
    "calc_score(3, 2, 1)\n",
    "\n",
    "Output:\n",
    "10\n",
    "```\n",
    "-------------------\n",
    "```\n",
    "calc_score(3, 0)\n",
    "\n",
    "Output:\n",
    "9\n",
    "```"
   ]
  },
  {
   "cell_type": "code",
   "execution_count": null,
   "id": "52719fba",
   "metadata": {},
   "outputs": [],
   "source": [
    "def calc_score(...parameter here...):\n",
    "    # code below this line\n",
    "    return 0\n",
    "    # code above this line\n",
    "\n",
    "calc_score(3, 0)"
   ]
  },
  {
   "cell_type": "code",
   "execution_count": 69,
   "id": "78edeef9",
   "metadata": {},
   "outputs": [
    {
     "data": {
      "text/plain": [
       "9"
      ]
     },
     "execution_count": 69,
     "metadata": {},
     "output_type": "execute_result"
    }
   ],
   "source": [
    "\n",
    "def calc_score(win,draw,lose = 0):\n",
    "    score = win*3 + draw*1 +lose\n",
    "    return score\n",
    "calc_score(3,0)"
   ]
  },
  {
   "cell_type": "markdown",
   "id": "843360c3",
   "metadata": {},
   "source": [
    "## Bài 8: Thung lũng Silicon\n",
    "Thung lũng Silicon là phần phía Nam của vùng vịnh San Francisco tại phía Bắc California ở Mỹ. Ban đầu tên này được dùng để chỉ một số lượng lớn các nhà phát minh và hãng sản xuất các loại chíp silicon, nhưng sau đó nó trở thành cái tên hoán dụ cho tất cả các khu thương mại công nghệ cao trong khu vực.\n",
    "\n",
    "Thung lũng Silicon là nơi tập trung của hàng ngàn tập đoàn công nghệ nổi tiếng như Facebook, Google, Apple, NDIVIA, Logitech... và là miền đất hứa của rất nhiều lập trình viên trên thế giới.\n",
    "\n",
    "Giả sử khoảng cách từ Cảng hàng không Quốc tế Tân Sơn Nhất đến Thung lũng Silicon là `s` km. Mỗi giờ máy bay sẽ di chuyển được khoảng cách là `k` km/h. Hãy tính thời gian `t` cần thiết để bay đến được Thung lũng Silicon.\n",
    "\n",
    "Nhiệm vụ: Viết hàm time_to_silicon_valey() nhận vào các tham số `s` và `k`, sau đó trả về thời gian `t` giờ tính được, làm tròn 2 chữ số thập phân.\n",
    "Ví dụ:\n",
    "```\n",
    "time_to_silicon_valey(14448, 800)\n",
    "\n",
    "Output:\n",
    "18.06\n",
    "```"
   ]
  },
  {
   "cell_type": "code",
   "execution_count": null,
   "id": "f6bff52f",
   "metadata": {},
   "outputs": [],
   "source": [
    "def time_to_silicon_valey(...parameter here...):\n",
    "    # code below this line\n",
    "    return 0\n",
    "    # code above this line\n",
    "\n",
    "time_to_silicon_valey(14448, 800)"
   ]
  },
  {
   "cell_type": "code",
   "execution_count": 70,
   "id": "d7208f47",
   "metadata": {},
   "outputs": [
    {
     "data": {
      "text/plain": [
       "18.06"
      ]
     },
     "execution_count": 70,
     "metadata": {},
     "output_type": "execute_result"
    }
   ],
   "source": [
    "def time_to_silicon_valey(s,k):\n",
    "    t = round(s/k,2)\n",
    "    return t\n",
    "time_to_silicon_valey(14448,800)\n"
   ]
  }
 ],
 "metadata": {
  "kernelspec": {
   "display_name": "Python 3 (ipykernel)",
   "language": "python",
   "name": "python3"
  },
  "language_info": {
   "codemirror_mode": {
    "name": "ipython",
    "version": 3
   },
   "file_extension": ".py",
   "mimetype": "text/x-python",
   "name": "python",
   "nbconvert_exporter": "python",
   "pygments_lexer": "ipython3",
   "version": "3.11.1"
  }
 },
 "nbformat": 4,
 "nbformat_minor": 5
}
